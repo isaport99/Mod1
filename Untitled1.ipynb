{
  "nbformat": 4,
  "nbformat_minor": 0,
  "metadata": {
    "colab": {
      "provenance": []
    },
    "kernelspec": {
      "name": "python3",
      "display_name": "Python 3"
    },
    "language_info": {
      "name": "python"
    }
  },
  "cells": [
    {
      "cell_type": "code",
      "source": [
        "print (\"esse arquivo está vazio, é apenas para teste\")"
      ],
      "metadata": {
        "colab": {
          "base_uri": "https://localhost:8080/"
        },
        "id": "4DQXZ3QpOzjx",
        "outputId": "d34febfd-2615-4707-a42e-1dfbcb3fef2f"
      },
      "execution_count": 1,
      "outputs": [
        {
          "output_type": "stream",
          "name": "stdout",
          "text": [
            "esse arquivo está vazio, é apenas para teste\n"
          ]
        }
      ]
    }
  ]
}